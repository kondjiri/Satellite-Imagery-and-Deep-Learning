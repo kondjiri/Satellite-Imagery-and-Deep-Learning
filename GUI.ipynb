{
 "cells": [
  {
   "cell_type": "code",
   "execution_count": 1,
   "metadata": {},
   "outputs": [
    {
     "name": "stderr",
     "output_type": "stream",
     "text": [
      "Using TensorFlow backend.\n"
     ]
    }
   ],
   "source": [
    "import tkinter as tk\n",
    "from tkinter import *\n",
    "from tkinter import filedialog\n",
    "import os \n",
    "import cv2\n",
    "import numpy as np\n",
    "from PIL import Image,ImageTk\n",
    "import matplotlib.pyplot as plt\n",
    "from keras.preprocessing.image import img_to_array,load_img\n",
    "from keras.applications.resnet_v2 import ResNet50V2,preprocess_input\n",
    "from keras.models import load_model\n",
    "model = load_model('model_image_classification.h5')"
   ]
  },
  {
   "cell_type": "code",
   "execution_count": 2,
   "metadata": {},
   "outputs": [],
   "source": [
    "# root = Tk()\n",
    "# root.title(\"DeepApp\")\n",
    "# root.geometry(\"800x600\")\n",
    "# root.resizable(False,False)\n",
    "# canvas  = Canvas(root,width=800,height=600,bg=\"white\").pack()\n",
    "\n",
    "# grid_left = Frame(root,bg=\"red\").grid(row=0,column=0)\n",
    "# grid_right = Frame(root,bg=\"green\").grid(row=0,column=1)\n",
    "\n",
    "# frame1=Frame(root, width=200, height=560,pady=5).grid(row=0, column=0)\n",
    "\n",
    "# btn_file = Button(frame1,text=\"Ouvrir une image\",padx=15,pady=5,fg='black',font=(\"bold\",12)).grid(row=0)\n",
    "# btn_file = Button(frame1,text=\"Classifier\",padx=15,pady=5,fg='black',font=(\"bold\",12)).grid(row=1)\n",
    "\n",
    "\n",
    "\n",
    "# frame2=Frame(root, width=600, height=560).grid(row=0, column=1)\n",
    "\n",
    "# btn_help = Button(root,text=\"Help\",padx=15,pady=5,fg='black',font=(\"bold\",12)).grid(row=1,column=0,sticky=\"w\")\n",
    "# btn_quit = Button(root,text=\"Quit\",padx=15,pady=5,fg='white',bg=\"red\",font=(\"bold\",12)).grid(row=1,column=1,sticky=\"e\")\n",
    "\n",
    "# root.mainloop()"
   ]
  },
  {
   "cell_type": "code",
   "execution_count": 12,
   "metadata": {
    "scrolled": true
   },
   "outputs": [],
   "source": [
    "fenetre = Tk()\n",
    "fenetre.geometry(\"400x600\")\n",
    "fenetre.resizable(False,False)\n",
    "# fenetre.iconbitmap(\"Documents/skull.jpg\")\n",
    "fenetre.title(\"Classification des IM par CNN\")\n",
    "menubar = Menu(fenetre)\n",
    "\n",
    "menu1 = Menu(menubar, tearoff=0)\n",
    "menu1.add_command(label=\"Importer une image\", command=load_img)\n",
    "menu1.add_command(label=\"Supprimer l'image\", command=remove_label)\n",
    "menu1.add_separator()\n",
    "menu1.add_command(label=\"Quitter\", command=leave_app)\n",
    "menubar.add_cascade(label=\"Fichier\", menu=menu1)\n",
    "\n",
    "menu2 = Menu(menubar, tearoff=0)\n",
    "menu2.add_command(label=\"Mme Berrouiget\", command=Mme_berrouiget)\n",
    "menu2.add_separator()\n",
    "menu2.add_command(label=\"Mme Zigh\", command=Mme_Zigh)\n",
    "menu2.add_separator()\n",
    "menu2.add_command(label=\"Mme Douache\", command=Mme_Douache)\n",
    "menu2.add_separator()\n",
    "menubar.add_cascade(label=\"Membres\", menu=menu2)\n",
    "\n",
    "menu3 = Menu(menubar, tearoff=0)\n",
    "\n",
    "menu3.add_command(label=\"Documentation\", command=documentation)\n",
    "menu3.add_command(label=\"Encadreur\", command=Encadreurs)\n",
    "menu3.add_separator()\n",
    "menu3.add_command(label=\"A propos\", command=a_propos)\n",
    "menubar.add_cascade(label=\"Aide\", menu=menu3)\n",
    "\n",
    "\n",
    "\n",
    "\n",
    "frame1 = Frame(fenetre,width=400,height=600).pack()\n",
    "# listbox=Listbox(frame1,selectbackground=\"gray\",font=(\"bold\",12))\n",
    "# listbox.place(relwidth=1,relheight=1,rely=0.1)\n",
    "# listbox.insert(END,text_dir)\n",
    "welcome = Label(frame1,text=\"Bienvenue sur C.I.M\",font=(\"bold\",15),wraplength = 1000).place(relwidth=1,relheight=1,rely=0.1)\n",
    "# listbox.config(yscrollcommand=scrollbar.set)\n",
    "# scrollbar.config(command=listbox.yview)\n",
    "fenetre.config(menu=menubar)\n",
    "fenetre.mainloop()"
   ]
  },
  {
   "cell_type": "code",
   "execution_count": 11,
   "metadata": {},
   "outputs": [],
   "source": [
    "def make_prediction(img_url=None):\n",
    "\n",
    "  if img_url==None:\n",
    "    print('Veuillez entrer une image ')\n",
    "  else:\n",
    "    image = Image.open(img_url)\n",
    "    image = image.resize((224, 224), Image.ANTIALIAS)\n",
    "#     image = load_img(img_url,target_size=(224, 224))\n",
    "    # convert the image pixels to a numpy array\n",
    "    image = img_to_array(image)\n",
    "    # reshape data for the model\n",
    "    image = image.reshape((1, image.shape[0], image.shape[1], image.shape[2]))\n",
    "    # prepare the image for the VGG model\n",
    "    image = preprocess_input(image)\n",
    "    pred = model.predict(image)[0]\n",
    "    img = cv2.imread(img_url)\n",
    "    r,b,g =cv2.split(img)\n",
    "    img_show = cv2.merge([r,g,b]) \n",
    "    label_dict = {\n",
    "              0:'agricultural',\n",
    "              1:'airplane',\n",
    "              2:'baseballdiamond',\n",
    "              3:'beach',\n",
    "              4:'buildings',\n",
    "              5:'chaparral',\n",
    "              6:'denseresidential',\n",
    "              7:'forest',\n",
    "              8:'freeway',\n",
    "              9:'golfcourse',\n",
    "              10:'harbor',\n",
    "              11:'intersection',\n",
    "              12:'mediumresidential',\n",
    "              13:'mobilehomepark',\n",
    "              14:'overpass',\n",
    "              15:'parkinglot',\n",
    "              16:'river',\n",
    "              17:'runway',\n",
    "              18:'sparseresidential',\n",
    "              19:'storagetanks',\n",
    "              20:'tenniscourt'\n",
    "      }\n",
    "    label = np.argmax(pred)\n",
    "    return label_dict[label]\n",
    "#     print(label)\n",
    "#     plt.figure(figsize=[5,5])\n",
    "#     plt.imshow(img_show)\n",
    "#     plt.title(label_dict[label])\n",
    "#     plt.show()"
   ]
  },
  {
   "cell_type": "code",
   "execution_count": 4,
   "metadata": {},
   "outputs": [],
   "source": [
    "result = make_prediction(\"C:/Users/Fane Kondjiri/Documents/airplane10.tif\")"
   ]
  },
  {
   "cell_type": "code",
   "execution_count": 5,
   "metadata": {},
   "outputs": [
    {
     "data": {
      "text/plain": [
       "'airplane'"
      ]
     },
     "execution_count": 5,
     "metadata": {},
     "output_type": "execute_result"
    }
   ],
   "source": [
    "result"
   ]
  },
  {
   "cell_type": "code",
   "execution_count": 10,
   "metadata": {},
   "outputs": [],
   "source": [
    "def documentation():\n",
    "    doc = Label(frame1,\n",
    "                text='Documentation'\n",
    "                ,font=(\"bold\",12),wraplength = 400)\n",
    "    doc.place(relwidth=1,relheight=1,anchor=NW)"
   ]
  },
  {
   "cell_type": "code",
   "execution_count": 9,
   "metadata": {},
   "outputs": [],
   "source": [
    "def Mme_berrouiget():\n",
    "    doc = Label(frame1,\n",
    "                text=\"Mme Souad YAHIA-BERROUIGUET\"\n",
    "                ,font=(\"bold\",12),wraplength = 400)\n",
    "    doc.place(relwidth=1,relheight=1,anchor=NW)"
   ]
  },
  {
   "cell_type": "code",
   "execution_count": 8,
   "metadata": {},
   "outputs": [],
   "source": [
    "def Mme_Douache():\n",
    "    doc = Label(frame1,\n",
    "                text=\"Membre du Jury: Mme DOUACHE Malika\"\n",
    "                ,font=(\"bold\",13),wraplength = 350)\n",
    "    doc.place(relwidth=1,relheight=1,anchor=NW)"
   ]
  },
  {
   "cell_type": "code",
   "execution_count": 7,
   "metadata": {},
   "outputs": [],
   "source": [
    "def Mme_Zigh():\n",
    "    doc = Label(frame1,\n",
    "                text=\"Membre du Jury: Mme ZIGH-SLIMANE Ehlem\"\n",
    "                ,font=(\"bold\",13),wraplength = 350)\n",
    "    doc.place(relwidth=1,relheight=1,anchor=NW)"
   ]
  },
  {
   "cell_type": "code",
   "execution_count": 6,
   "metadata": {},
   "outputs": [],
   "source": [
    "def Encadreurs():\n",
    "    enc = open(\"Documents/app/encadreur.txt\",'r')\n",
    "    file = enc.read()\n",
    "    doc = Label(frame1,\n",
    "                text=file\n",
    "                ,font=(\"bold\",13),wraplength = 350)\n",
    "    doc.place(relwidth=1,relheight=1,anchor=NW)"
   ]
  },
  {
   "cell_type": "code",
   "execution_count": 5,
   "metadata": {},
   "outputs": [],
   "source": [
    "def a_propos():\n",
    "    enc = open(\"Documents/app/propos.txt\",'r')\n",
    "    file = enc.read()\n",
    "    doc = Label(frame1,\n",
    "                text=file\n",
    "                ,font=(\"bold\",12),wraplength = 380)\n",
    "    doc.place(relwidth=1,relheight=1,anchor=NW)"
   ]
  },
  {
   "cell_type": "code",
   "execution_count": 4,
   "metadata": {},
   "outputs": [],
   "source": [
    "def remove_label():\n",
    "    message = Label(frame1,text=\"Bienvenue sur C.I.M\",font=(\"bold\",15)).place(relwidth=1,relheight=1,rely=0.1)"
   ]
  },
  {
   "cell_type": "code",
   "execution_count": 3,
   "metadata": {},
   "outputs": [],
   "source": [
    "def leave_app():\n",
    "    fenetre.destroy()"
   ]
  },
  {
   "cell_type": "code",
   "execution_count": 2,
   "metadata": {},
   "outputs": [],
   "source": [
    "def load_img():\n",
    "    global file,image,img\n",
    "    \n",
    "#     for img_display in frame.winfo_children():\n",
    "#         img_display.destroy()\n",
    "        \n",
    "    file = filedialog.askopenfilename(initialdir='/',title=\"Choisir une image\",filetypes=((\"all files\",\"*.*\"),(\"png files\",(\"*.png\"))))\n",
    "    if file==\"\":\n",
    "        text_err = Label(frame1,text=\"Vous devez choisir une image à classifier\",font=(\"bold\",12)).place(relwidth=1,relheight=0.8,rely=0.1)\n",
    "    else:\n",
    "        name = str(file.split('/')[len(file.split('/'))-1]).split('.')\n",
    "        ext = name[len(name)-1]\n",
    "        if ext in ['png','jpg','tif','jpeg']:\n",
    "\n",
    "            image = Image.open(file)\n",
    "        #     basewidth=256.0\n",
    "        #     wpercent = (basewidth / float(image.size[0]))\n",
    "        #     hsize = int((float(image.size[1]) * float(wpercent)))\n",
    "            image = image.resize((350,400), Image.ANTIALIAS)\n",
    "            image = ImageTk.PhotoImage(image)\n",
    "            img_pred = make_prediction(file)\n",
    "#             print(file)\n",
    "#             class_img = Label(frame1,text=\"C'est une image\",font=(\"bold\",12)).place(relwidth=1,relheight=0.1,rely=0.1)\n",
    "            img = Label(frame1,image=image).place(relwidth=1,relheight=0.6,rely=0.1)\n",
    "    #         name = str(file.split('/')[len(file.split('/'))-1]).split('.')[0]\n",
    "            img_caption = Label(frame1,text=\"Nom de l'image : {}\\n\\nResultat de la Prediction : {}\\n\".format(name[0],img_pred),font=(\"bold\",13),fg=\"black\",wraplength = 350).place(relwidth=1,relheight=0.2,rely=0.1,anchor=NW)\n",
    "            \n",
    "        else:\n",
    "            text_err = Label(frame1,text=\"Vous devez choisir une image en png,jpg,tif ou jpeg\",font=(\"bold\",12)).place(relwidth=1,relheight=0.8,rely=0.1)\n"
   ]
  },
  {
   "cell_type": "code",
   "execution_count": null,
   "metadata": {},
   "outputs": [],
   "source": []
  }
 ],
 "metadata": {
  "kernelspec": {
   "display_name": "Python 3",
   "language": "python",
   "name": "python3"
  },
  "language_info": {
   "codemirror_mode": {
    "name": "ipython",
    "version": 3
   },
   "file_extension": ".py",
   "mimetype": "text/x-python",
   "name": "python",
   "nbconvert_exporter": "python",
   "pygments_lexer": "ipython3",
   "version": "3.7.7"
  }
 },
 "nbformat": 4,
 "nbformat_minor": 4
}
