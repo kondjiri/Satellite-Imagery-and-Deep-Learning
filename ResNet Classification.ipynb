{
 "cells": [
  {
   "cell_type": "markdown",
   "metadata": {},
   "source": [
    "### Data augmentation"
   ]
  },
  {
   "cell_type": "code",
   "execution_count": 26,
   "metadata": {},
   "outputs": [],
   "source": [
    "import os\n",
    "import cv2\n",
    "import numpy as np\n",
    "import pickle\n",
    "from sklearn.model_selection import train_test_split\n",
    "import matplotlib.pyplot as plt\n",
    "import keras\n",
    "from keras.models import load_model,Model,Sequential\n",
    "from keras.layers import Dense,Dropout,Conv2D,MaxPooling2D\n",
    "from keras.utils.np_utils import to_categorical\n",
    "import tensorflow as tf\n",
    "from keras.applications.resnet_v2 import ResNet50V2"
   ]
  },
  {
   "cell_type": "code",
   "execution_count": null,
   "metadata": {},
   "outputs": [],
   "source": []
  },
  {
   "cell_type": "markdown",
   "metadata": {},
   "source": [
    "## Dataset"
   ]
  },
  {
   "cell_type": "code",
   "execution_count": 2,
   "metadata": {},
   "outputs": [],
   "source": [
    "x = open('Documents/X.pickle','rb')\n",
    "x_train = pickle.load(x)\n",
    "data = np.array(x_train).reshape(-1,224,224,3)\n"
   ]
  },
  {
   "cell_type": "code",
   "execution_count": 4,
   "metadata": {},
   "outputs": [],
   "source": [
    "y = open('Documents/Y.pickle','rb')\n",
    "y_label = pickle.load(y)\n",
    "label = np.array(y_label).reshape(-1,1)"
   ]
  },
  {
   "cell_type": "code",
   "execution_count": 7,
   "metadata": {},
   "outputs": [],
   "source": [
    "train_x,test_x,train_y,test_y = train_test_split(data,label,test_size=0.2,random_state=10)"
   ]
  },
  {
   "cell_type": "code",
   "execution_count": 8,
   "metadata": {},
   "outputs": [],
   "source": [
    "train_x,test_x = (train_x.astype('float32'))/255.0,(test_x.astype('float32'))/255.0"
   ]
  },
  {
   "cell_type": "code",
   "execution_count": 12,
   "metadata": {},
   "outputs": [],
   "source": [
    "train_y,test_y = to_categorical(train_y,21),to_categorical(test_y,21)"
   ]
  },
  {
   "cell_type": "markdown",
   "metadata": {},
   "source": [
    "## Model "
   ]
  },
  {
   "cell_type": "code",
   "execution_count": 27,
   "metadata": {},
   "outputs": [],
   "source": [
    "def model_resnet_50():\n",
    "  model = ResNet50V2(include_top=False,weights='imagenet',pooling='avg',input_shape=(224,224,3))\n",
    "  for layer in model.layers:\n",
    "    layer.trainable=False\n",
    "\n",
    "  x = model.output\n",
    "  x = Dense(1024, activation = \"relu\")(x)\n",
    "  x = Dense(128, activation = \"relu\")(x)\n",
    "  pred = Dense(21, activation = \"softmax\")(x)\n",
    "  net = Model(inputs=model.input, outputs = pred)\n",
    "  net.compile(loss = keras.losses.categorical_crossentropy, optimizer = \"adam\", metrics = ['accuracy'])\n",
    "  return net"
   ]
  },
  {
   "cell_type": "code",
   "execution_count": 28,
   "metadata": {},
   "outputs": [],
   "source": [
    "model = model_resnet_50()"
   ]
  },
  {
   "cell_type": "code",
   "execution_count": 30,
   "metadata": {
    "scrolled": false
   },
   "outputs": [
    {
     "name": "stdout",
     "output_type": "stream",
     "text": [
      "Train on 1344 samples, validate on 336 samples\n",
      "Epoch 1/100\n",
      "1344/1344 [==============================] - 856s 637ms/step - loss: 1.5339 - accuracy: 0.5878 - val_loss: 1.2259 - val_accuracy: 0.6488\n",
      "Epoch 2/100\n",
      "1344/1344 [==============================] - 736s 548ms/step - loss: 0.2192 - accuracy: 0.9249 - val_loss: 1.1602 - val_accuracy: 0.7202\n",
      "Epoch 3/100\n",
      "1344/1344 [==============================] - 785s 584ms/step - loss: 0.0901 - accuracy: 0.9688 - val_loss: 1.1018 - val_accuracy: 0.7113\n",
      "Epoch 4/100\n",
      "1344/1344 [==============================] - 769s 572ms/step - loss: 0.0606 - accuracy: 0.9851 - val_loss: 1.1098 - val_accuracy: 0.7381\n",
      "Epoch 5/100\n",
      "1344/1344 [==============================] - 781s 581ms/step - loss: 0.0231 - accuracy: 0.9940 - val_loss: 1.1939 - val_accuracy: 0.7113\n",
      "Epoch 6/100\n",
      "1344/1344 [==============================] - 756s 563ms/step - loss: 0.0084 - accuracy: 0.9993 - val_loss: 1.0985 - val_accuracy: 0.7411\n",
      "Epoch 7/100\n",
      "1344/1344 [==============================] - 727s 541ms/step - loss: 0.0044 - accuracy: 1.0000 - val_loss: 1.0034 - val_accuracy: 0.7708\n",
      "Epoch 8/100\n",
      "1344/1344 [==============================] - 730s 543ms/step - loss: 0.0032 - accuracy: 1.0000 - val_loss: 0.9817 - val_accuracy: 0.7589\n",
      "Epoch 9/100\n",
      "1344/1344 [==============================] - 12967s 10s/step - loss: 0.0026 - accuracy: 1.0000 - val_loss: 0.9757 - val_accuracy: 0.7708\n",
      "Epoch 10/100\n",
      "1344/1344 [==============================] - 732s 545ms/step - loss: 0.0026 - accuracy: 1.0000 - val_loss: 0.9345 - val_accuracy: 0.7768\n",
      "Epoch 11/100\n",
      "1344/1344 [==============================] - 742s 552ms/step - loss: 0.0023 - accuracy: 1.0000 - val_loss: 1.0170 - val_accuracy: 0.7619\n",
      "Epoch 12/100\n",
      "1344/1344 [==============================] - 740s 551ms/step - loss: 0.0024 - accuracy: 1.0000 - val_loss: 1.0690 - val_accuracy: 0.7560\n",
      "Epoch 13/100\n",
      "1344/1344 [==============================] - 735s 547ms/step - loss: 0.0013 - accuracy: 1.0000 - val_loss: 1.0688 - val_accuracy: 0.7530\n",
      "Epoch 14/100\n",
      "1344/1344 [==============================] - 737s 548ms/step - loss: 0.0025 - accuracy: 0.9993 - val_loss: 0.9920 - val_accuracy: 0.7589\n",
      "Epoch 15/100\n",
      "1344/1344 [==============================] - 757s 564ms/step - loss: 0.0012 - accuracy: 1.0000 - val_loss: 1.0470 - val_accuracy: 0.7649\n",
      "Epoch 16/100\n",
      "1344/1344 [==============================] - 742s 552ms/step - loss: 0.0022 - accuracy: 0.9993 - val_loss: 1.0124 - val_accuracy: 0.7708\n",
      "Epoch 17/100\n",
      "1344/1344 [==============================] - 742s 552ms/step - loss: 0.0021 - accuracy: 0.9993 - val_loss: 0.8432 - val_accuracy: 0.7917\n",
      "Epoch 18/100\n",
      "1344/1344 [==============================] - 761s 566ms/step - loss: 0.0041 - accuracy: 0.9985 - val_loss: 0.8848 - val_accuracy: 0.7857\n",
      "Epoch 19/100\n",
      "1344/1344 [==============================] - 756s 563ms/step - loss: 0.0022 - accuracy: 1.0000 - val_loss: 0.9696 - val_accuracy: 0.7827\n",
      "Epoch 20/100\n",
      "1344/1344 [==============================] - 762s 567ms/step - loss: 0.0031 - accuracy: 0.9993 - val_loss: 1.0526 - val_accuracy: 0.7560\n",
      "Epoch 21/100\n",
      "1344/1344 [==============================] - 759s 565ms/step - loss: 0.0056 - accuracy: 0.9978 - val_loss: 1.0429 - val_accuracy: 0.7619\n",
      "Epoch 22/100\n",
      "1344/1344 [==============================] - 762s 567ms/step - loss: 0.0022 - accuracy: 1.0000 - val_loss: 1.0005 - val_accuracy: 0.7649\n",
      "Epoch 23/100\n",
      "1344/1344 [==============================] - 740s 551ms/step - loss: 0.0017 - accuracy: 1.0000 - val_loss: 1.0536 - val_accuracy: 0.7679\n",
      "Epoch 24/100\n",
      "1344/1344 [==============================] - 744s 554ms/step - loss: 9.8937e-04 - accuracy: 1.0000 - val_loss: 1.0290 - val_accuracy: 0.7768\n",
      "Epoch 25/100\n",
      "1344/1344 [==============================] - 743s 553ms/step - loss: 0.0050 - accuracy: 0.9978 - val_loss: 0.9051 - val_accuracy: 0.7768\n",
      "Epoch 26/100\n",
      "1344/1344 [==============================] - 749s 557ms/step - loss: 0.0105 - accuracy: 0.9955 - val_loss: 1.0105 - val_accuracy: 0.7708\n",
      "Epoch 27/100\n",
      "1344/1344 [==============================] - 753s 560ms/step - loss: 0.0064 - accuracy: 0.9978 - val_loss: 0.9548 - val_accuracy: 0.7827\n",
      "Epoch 28/100\n",
      "1344/1344 [==============================] - 751s 559ms/step - loss: 0.0035 - accuracy: 0.9993 - val_loss: 1.1683 - val_accuracy: 0.7619\n",
      "Epoch 29/100\n",
      "1344/1344 [==============================] - 743s 553ms/step - loss: 0.0021 - accuracy: 1.0000 - val_loss: 1.0135 - val_accuracy: 0.7798\n",
      "Epoch 30/100\n",
      "1344/1344 [==============================] - 743s 553ms/step - loss: 0.0030 - accuracy: 0.9993 - val_loss: 1.0165 - val_accuracy: 0.7768\n",
      "Epoch 31/100\n",
      "1344/1344 [==============================] - 746s 555ms/step - loss: 0.0098 - accuracy: 0.9963 - val_loss: 1.1418 - val_accuracy: 0.7679\n",
      "Epoch 32/100\n",
      "1344/1344 [==============================] - 742s 552ms/step - loss: 0.0132 - accuracy: 0.9970 - val_loss: 1.0347 - val_accuracy: 0.7827\n",
      "Epoch 33/100\n",
      "1344/1344 [==============================] - 747s 556ms/step - loss: 0.0073 - accuracy: 0.9978 - val_loss: 1.2799 - val_accuracy: 0.7470\n",
      "Epoch 34/100\n",
      "1344/1344 [==============================] - 743s 553ms/step - loss: 0.0048 - accuracy: 0.9978 - val_loss: 1.2487 - val_accuracy: 0.7589\n",
      "Epoch 35/100\n",
      "1344/1344 [==============================] - 738s 549ms/step - loss: 0.0082 - accuracy: 0.9978 - val_loss: 1.2308 - val_accuracy: 0.7589\n",
      "Epoch 36/100\n",
      "1344/1344 [==============================] - 742s 552ms/step - loss: 0.0041 - accuracy: 0.9993 - val_loss: 1.2092 - val_accuracy: 0.7649\n",
      "Epoch 37/100\n",
      "1344/1344 [==============================] - 739s 550ms/step - loss: 0.0030 - accuracy: 0.9993 - val_loss: 1.2955 - val_accuracy: 0.7500\n",
      "Epoch 38/100\n",
      "1344/1344 [==============================] - 738s 549ms/step - loss: 0.0021 - accuracy: 0.9993 - val_loss: 1.0852 - val_accuracy: 0.7708\n",
      "Epoch 39/100\n",
      "1344/1344 [==============================] - 741s 552ms/step - loss: 0.0016 - accuracy: 1.0000 - val_loss: 1.2611 - val_accuracy: 0.7679\n",
      "Epoch 40/100\n",
      "1344/1344 [==============================] - 744s 553ms/step - loss: 6.2745e-04 - accuracy: 1.0000 - val_loss: 1.2551 - val_accuracy: 0.7798\n",
      "Epoch 41/100\n",
      "1344/1344 [==============================] - 745s 554ms/step - loss: 3.8694e-04 - accuracy: 1.0000 - val_loss: 1.1832 - val_accuracy: 0.7738\n",
      "Epoch 42/100\n",
      "1344/1344 [==============================] - 747s 555ms/step - loss: 3.4588e-04 - accuracy: 1.0000 - val_loss: 1.1570 - val_accuracy: 0.7768\n",
      "Epoch 43/100\n",
      "1344/1344 [==============================] - 748s 557ms/step - loss: 2.1165e-04 - accuracy: 1.0000 - val_loss: 1.1612 - val_accuracy: 0.7798\n",
      "Epoch 44/100\n",
      "1344/1344 [==============================] - 743s 553ms/step - loss: 2.6966e-04 - accuracy: 1.0000 - val_loss: 1.1560 - val_accuracy: 0.7798\n",
      "Epoch 45/100\n",
      "1344/1344 [==============================] - 741s 551ms/step - loss: 2.5343e-04 - accuracy: 1.0000 - val_loss: 1.1613 - val_accuracy: 0.7768\n",
      "Epoch 46/100\n",
      "1344/1344 [==============================] - 747s 556ms/step - loss: 2.7699e-04 - accuracy: 1.0000 - val_loss: 1.1524 - val_accuracy: 0.7798\n",
      "Epoch 47/100\n",
      "1344/1344 [==============================] - 752s 559ms/step - loss: 1.9418e-04 - accuracy: 1.0000 - val_loss: 1.1570 - val_accuracy: 0.7738\n",
      "Epoch 48/100\n",
      "1344/1344 [==============================] - 750s 558ms/step - loss: 1.7917e-04 - accuracy: 1.0000 - val_loss: 1.1756 - val_accuracy: 0.7738\n",
      "Epoch 49/100\n",
      "1344/1344 [==============================] - 752s 560ms/step - loss: 5.8897e-04 - accuracy: 1.0000 - val_loss: 1.2085 - val_accuracy: 0.7708\n",
      "Epoch 50/100\n",
      "1344/1344 [==============================] - 756s 563ms/step - loss: 0.0036 - accuracy: 0.9993 - val_loss: 1.1510 - val_accuracy: 0.7708\n",
      "Epoch 51/100\n",
      "1344/1344 [==============================] - 743s 553ms/step - loss: 0.0039 - accuracy: 0.9993 - val_loss: 1.2937 - val_accuracy: 0.7649\n",
      "Epoch 52/100\n",
      "1344/1344 [==============================] - 759s 564ms/step - loss: 0.0012 - accuracy: 1.0000 - val_loss: 1.2928 - val_accuracy: 0.7560\n",
      "Epoch 53/100\n",
      "1344/1344 [==============================] - 740s 550ms/step - loss: 6.7816e-04 - accuracy: 1.0000 - val_loss: 1.1899 - val_accuracy: 0.7738\n",
      "Epoch 54/100\n",
      "1344/1344 [==============================] - 751s 559ms/step - loss: 5.9823e-04 - accuracy: 1.0000 - val_loss: 1.1506 - val_accuracy: 0.7768\n",
      "Epoch 55/100\n"
     ]
    },
    {
     "name": "stdout",
     "output_type": "stream",
     "text": [
      "1344/1344 [==============================] - 745s 554ms/step - loss: 9.7577e-04 - accuracy: 0.9993 - val_loss: 1.1624 - val_accuracy: 0.7768\n",
      "Epoch 56/100\n",
      "1344/1344 [==============================] - 746s 555ms/step - loss: 0.0021 - accuracy: 0.9993 - val_loss: 1.0836 - val_accuracy: 0.7887\n",
      "Epoch 57/100\n",
      "1344/1344 [==============================] - 736s 548ms/step - loss: 0.0036 - accuracy: 0.9985 - val_loss: 1.1073 - val_accuracy: 0.7946\n",
      "Epoch 58/100\n",
      "1344/1344 [==============================] - 743s 553ms/step - loss: 0.0161 - accuracy: 0.9948 - val_loss: 1.1445 - val_accuracy: 0.7887\n",
      "Epoch 59/100\n",
      "1344/1344 [==============================] - 742s 552ms/step - loss: 0.0053 - accuracy: 0.9985 - val_loss: 1.2753 - val_accuracy: 0.7708\n",
      "Epoch 60/100\n",
      "1344/1344 [==============================] - 748s 557ms/step - loss: 0.0088 - accuracy: 0.9993 - val_loss: 1.1752 - val_accuracy: 0.7738\n",
      "Epoch 61/100\n",
      "1344/1344 [==============================] - 739s 550ms/step - loss: 0.0105 - accuracy: 0.9963 - val_loss: 1.2723 - val_accuracy: 0.7976\n",
      "Epoch 62/100\n",
      "1344/1344 [==============================] - 739s 550ms/step - loss: 0.0192 - accuracy: 0.9970 - val_loss: 1.2427 - val_accuracy: 0.7619\n",
      "Epoch 63/100\n",
      "1344/1344 [==============================] - 737s 548ms/step - loss: 0.0110 - accuracy: 0.9955 - val_loss: 1.2059 - val_accuracy: 0.7798\n",
      "Epoch 64/100\n",
      "1344/1344 [==============================] - 737s 548ms/step - loss: 0.0217 - accuracy: 0.9918 - val_loss: 1.2823 - val_accuracy: 0.7738\n",
      "Epoch 65/100\n",
      "1344/1344 [==============================] - 793s 590ms/step - loss: 0.0315 - accuracy: 0.9911 - val_loss: 1.1930 - val_accuracy: 0.8125\n",
      "Epoch 66/100\n",
      "1344/1344 [==============================] - 776s 577ms/step - loss: 0.0225 - accuracy: 0.9918 - val_loss: 1.2582 - val_accuracy: 0.7679\n",
      "Epoch 67/100\n",
      "1344/1344 [==============================] - 749s 557ms/step - loss: 0.0251 - accuracy: 0.9918 - val_loss: 1.0709 - val_accuracy: 0.7976\n",
      "Epoch 68/100\n",
      "1344/1344 [==============================] - 748s 556ms/step - loss: 0.0100 - accuracy: 0.9978 - val_loss: 1.2098 - val_accuracy: 0.7708\n",
      "Epoch 69/100\n",
      "1344/1344 [==============================] - 748s 557ms/step - loss: 0.0080 - accuracy: 0.9985 - val_loss: 1.3061 - val_accuracy: 0.7440\n",
      "Epoch 70/100\n",
      "1344/1344 [==============================] - 747s 556ms/step - loss: 0.0203 - accuracy: 0.9963 - val_loss: 1.3130 - val_accuracy: 0.7708\n",
      "Epoch 71/100\n",
      "1344/1344 [==============================] - 743s 553ms/step - loss: 0.0192 - accuracy: 0.9948 - val_loss: 1.0164 - val_accuracy: 0.7946\n",
      "Epoch 72/100\n",
      "1344/1344 [==============================] - 748s 557ms/step - loss: 0.0158 - accuracy: 0.9955 - val_loss: 1.3829 - val_accuracy: 0.7738\n",
      "Epoch 73/100\n",
      "1344/1344 [==============================] - 809s 602ms/step - loss: 0.0082 - accuracy: 0.9985 - val_loss: 1.1179 - val_accuracy: 0.8065\n",
      "Epoch 74/100\n",
      "1344/1344 [==============================] - 772s 574ms/step - loss: 0.0066 - accuracy: 0.9985 - val_loss: 1.3760 - val_accuracy: 0.8036\n",
      "Epoch 75/100\n",
      "1344/1344 [==============================] - 815s 606ms/step - loss: 0.0043 - accuracy: 0.9985 - val_loss: 1.2557 - val_accuracy: 0.8036\n",
      "Epoch 76/100\n",
      "1344/1344 [==============================] - 754s 561ms/step - loss: 0.0391 - accuracy: 0.9911 - val_loss: 1.3251 - val_accuracy: 0.7798\n",
      "Epoch 77/100\n",
      "1344/1344 [==============================] - 746s 555ms/step - loss: 0.0341 - accuracy: 0.9918 - val_loss: 1.8431 - val_accuracy: 0.7411\n",
      "Epoch 78/100\n",
      "1344/1344 [==============================] - 760s 565ms/step - loss: 0.0494 - accuracy: 0.9859 - val_loss: 1.4232 - val_accuracy: 0.7738\n",
      "Epoch 79/100\n",
      "1344/1344 [==============================] - 762s 567ms/step - loss: 0.0376 - accuracy: 0.9881 - val_loss: 1.6338 - val_accuracy: 0.7500\n",
      "Epoch 80/100\n",
      "1344/1344 [==============================] - 840s 625ms/step - loss: 0.0288 - accuracy: 0.9888 - val_loss: 1.7784 - val_accuracy: 0.7530\n",
      "Epoch 81/100\n",
      "1344/1344 [==============================] - 834s 621ms/step - loss: 0.0322 - accuracy: 0.9866 - val_loss: 1.6214 - val_accuracy: 0.7589\n",
      "Epoch 82/100\n",
      "1344/1344 [==============================] - ETA: 30s - loss: 0.0120 - accuracy: 0.9961 - 813s 605ms/step - loss: 0.0115 - accuracy: 0.9963 - val_loss: 1.6552 - val_accuracy: 0.7857\n",
      "Epoch 83/100\n",
      "1344/1344 [==============================] - 881s 655ms/step - loss: 0.0128 - accuracy: 0.9970 - val_loss: 2.0987 - val_accuracy: 0.7262\n",
      "Epoch 84/100\n",
      "1344/1344 [==============================] - 828s 616ms/step - loss: 0.0080 - accuracy: 0.9970 - val_loss: 1.6018 - val_accuracy: 0.7768\n",
      "Epoch 85/100\n",
      "1344/1344 [==============================] - 795s 592ms/step - loss: 0.0031 - accuracy: 0.9993 - val_loss: 1.5856 - val_accuracy: 0.7857\n",
      "Epoch 86/100\n",
      "1344/1344 [==============================] - 834s 620ms/step - loss: 0.0043 - accuracy: 0.9978 - val_loss: 1.3464 - val_accuracy: 0.8125\n",
      "Epoch 87/100\n",
      "1344/1344 [==============================] - 808s 601ms/step - loss: 0.0115 - accuracy: 0.9978 - val_loss: 1.6524 - val_accuracy: 0.7768\n",
      "Epoch 88/100\n",
      "1344/1344 [==============================] - 836s 622ms/step - loss: 0.0112 - accuracy: 0.9970 - val_loss: 1.4825 - val_accuracy: 0.8125\n",
      "Epoch 89/100\n",
      "1344/1344 [==============================] - 850s 632ms/step - loss: 0.0018 - accuracy: 0.9985 - val_loss: 1.7203 - val_accuracy: 0.7589\n",
      "Epoch 90/100\n",
      "1344/1344 [==============================] - 766s 570ms/step - loss: 0.0053 - accuracy: 0.9985 - val_loss: 1.6576 - val_accuracy: 0.7708\n",
      "Epoch 91/100\n",
      "1344/1344 [==============================] - 761s 566ms/step - loss: 0.0027 - accuracy: 0.9993 - val_loss: 1.3062 - val_accuracy: 0.8095\n",
      "Epoch 92/100\n",
      "1344/1344 [==============================] - 795s 591ms/step - loss: 3.9524e-04 - accuracy: 1.0000 - val_loss: 1.3787 - val_accuracy: 0.7917\n",
      "Epoch 93/100\n",
      "1344/1344 [==============================] - 809s 602ms/step - loss: 2.0629e-04 - accuracy: 1.0000 - val_loss: 1.4460 - val_accuracy: 0.7887\n",
      "Epoch 94/100\n",
      "1344/1344 [==============================] - 941s 700ms/step - loss: 1.0376e-04 - accuracy: 1.0000 - val_loss: 1.4677 - val_accuracy: 0.7917\n",
      "Epoch 95/100\n",
      "1344/1344 [==============================] - 832s 619ms/step - loss: 5.0464e-05 - accuracy: 1.0000 - val_loss: 1.4698 - val_accuracy: 0.7946\n",
      "Epoch 96/100\n",
      "1344/1344 [==============================] - 797s 593ms/step - loss: 8.0900e-05 - accuracy: 1.0000 - val_loss: 1.4642 - val_accuracy: 0.7976\n",
      "Epoch 97/100\n",
      "1344/1344 [==============================] - 803s 598ms/step - loss: 1.1744e-04 - accuracy: 1.0000 - val_loss: 1.4556 - val_accuracy: 0.7976\n",
      "Epoch 98/100\n",
      "1344/1344 [==============================] - 802s 596ms/step - loss: 1.6286e-04 - accuracy: 1.0000 - val_loss: 1.4657 - val_accuracy: 0.8006\n",
      "Epoch 99/100\n",
      "1344/1344 [==============================] - 839s 625ms/step - loss: 4.7061e-05 - accuracy: 1.0000 - val_loss: 1.4705 - val_accuracy: 0.8006\n",
      "Epoch 100/100\n",
      "1344/1344 [==============================] - 814s 606ms/step - loss: 5.3560e-05 - accuracy: 1.0000 - val_loss: 1.4657 - val_accuracy: 0.8006\n"
     ]
    }
   ],
   "source": [
    "hist =model.fit(train_x,train_y,epochs=100,verbose=1,validation_split=0.2,batch_size=128)"
   ]
  },
  {
   "cell_type": "code",
   "execution_count": 32,
   "metadata": {},
   "outputs": [
    {
     "name": "stdout",
     "output_type": "stream",
     "text": [
      "420/420 [==============================] - 196s 467ms/step\n",
      " ResNet_50 on testing set:  Loss : 1.12 & Accuracy : 80.48%\n"
     ]
    }
   ],
   "source": [
    "loss,acc = model.evaluate(test_x,test_y,verbose=1)\n",
    "print(' ResNet_50 on testing set:  Loss : {:.2f} & Accuracy : {:.2f}%'.format(loss,acc*100))"
   ]
  },
  {
   "cell_type": "code",
   "execution_count": 33,
   "metadata": {},
   "outputs": [
    {
     "data": {
      "image/png": "[encoded data removed]",
      "text/plain": [
       "<Figure size 432x288 with 1 Axes>"
      ]
     },
     "metadata": {
      "needs_background": "light"
     },
     "output_type": "display_data"
    }
   ],
   "source": [
    "for i in ['loss','accuracy','val_loss','val_accuracy']:\n",
    "  plt.plot(hist.history[i],label=i)\n",
    "  plt.legend()\n",
    "plt.show()"
   ]
  },
  {
   "cell_type": "code",
   "execution_count": 35,
   "metadata": {},
   "outputs": [],
   "source": [
    "model.save('model_image_pfe.h5')"
   ]
  },
  {
   "cell_type": "code",
   "execution_count": null,
   "metadata": {},
   "outputs": [],
   "source": []
  }
 ],
 "metadata": {
  "kernelspec": {
   "display_name": "Python 3",
   "language": "python",
   "name": "python3"
  },
  "language_info": {
   "codemirror_mode": {
    "name": "ipython",
    "version": 3
   },
   "file_extension": ".py",
   "mimetype": "text/x-python",
   "name": "python",
   "nbconvert_exporter": "python",
   "pygments_lexer": "ipython3",
   "version": "3.7.7"
  }
 },
 "nbformat": 4,
 "nbformat_minor": 4
}
