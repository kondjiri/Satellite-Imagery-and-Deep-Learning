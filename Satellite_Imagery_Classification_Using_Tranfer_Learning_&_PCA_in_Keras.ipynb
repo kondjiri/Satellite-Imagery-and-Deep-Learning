{
  "nbformat": 4,
  "nbformat_minor": 0,
  "metadata": {
    "colab": {
      "name": "Satellite_Imagery_Classification_Using_Tranfer_Learning_&_PCA_in_Keras",
      "provenance": [],
      "collapsed_sections": [],
      "authorship_tag": "ABX9TyNIDheovQ/rc7aEgJmGC2a0",
      "include_colab_link": true
    },
    "kernelspec": {
      "name": "python3",
      "display_name": "Python 3"
    }
  },
  "cells": [
    {
      "cell_type": "markdown",
      "metadata": {
        "id": "view-in-github",
        "colab_type": "text"
      },
      "source": [
        "<a href=\"https://colab.research.google.com/github/kondjiri/Satellite-Imagery-and-Deep-Learning/blob/master/Satellite_Imagery_Classification_Using_Tranfer_Learning_%26_PCA_in_Keras.ipynb\" target=\"_parent\"><img src=\"https://colab.research.google.com/assets/colab-badge.svg\" alt=\"Open In Colab\"/></a>"
      ]
    },
    {
      "cell_type": "code",
      "metadata": {
        "id": "zshZ7tDUmuw9"
      },
      "source": [
        "import numpy as np\n",
        "import pickle\n",
        "import matplotlib.pyplot as plt\n",
        "from sklearn.decomposition import PCA\n",
        "from sklearn.model_selection import train_test_split\n",
        "from sklearn.preprocessing import MinMaxScaler\n",
        "from keras.models import Model,Sequential\n",
        "from keras.layers import Flatten,Dense,Dropout,Conv2D,MaxPool2D,Activation\n",
        "from keras.applications.vgg16 import VGG16,preprocess_input\n",
        "from keras.utils.np_utils import to_categorical"
      ],
      "execution_count": null,
      "outputs": []
    },
    {
      "cell_type": "code",
      "metadata": {
        "id": "RJbgQsSMl7NG",
        "colab": {
          "base_uri": "https://localhost:8080/",
          "height": 34
        },
        "outputId": "db24471d-abb0-4e2d-f9eb-d35b78b785b4"
      },
      "source": [
        "from google.colab import drive\n",
        "drive.mount('/content/drive')"
      ],
      "execution_count": null,
      "outputs": [
        {
          "output_type": "stream",
          "text": [
            "Mounted at /content/drive\n"
          ],
          "name": "stdout"
        }
      ]
    },
    {
      "cell_type": "code",
      "metadata": {
        "id": "XLX1SM4jnEyc"
      },
      "source": [
        "X = open('/content/drive/My Drive/DataSet/X.pickle','rb')\n",
        "Y = open('/content/drive/My Drive/DataSet/Y.pickle','rb')\n",
        "\n",
        "data = pickle.load(X)\n",
        "label = pickle.load(Y)\n",
        "\n",
        "train_data = np.array(data).reshape(-1,224,224,3)\n",
        "train_label = np.array(label).reshape(-1,1)\n",
        "\n",
        "train_x,test_x,train_y,test_y = train_test_split(train_data,train_label,test_size=0.2,random_state=42)\n",
        "train_x,test_x = train_x.astype('float32')/255.0,test_x.astype('float32')/255.0\n",
        "train_y,test_y = to_categorical(train_y,21),to_categorical(test_y,21)"
      ],
      "execution_count": null,
      "outputs": []
    },
    {
      "cell_type": "code",
      "metadata": {
        "id": "RT68_qqvn6Fg",
        "colab": {
          "base_uri": "https://localhost:8080/",
          "height": 51
        },
        "outputId": "469447b7-c8c4-4915-9fcc-abf554905934"
      },
      "source": [
        "model = VGG16(include_top=False,weights='imagenet',input_shape=(224,224,3),pooling='avg')"
      ],
      "execution_count": null,
      "outputs": [
        {
          "output_type": "stream",
          "text": [
            "Downloading data from https://storage.googleapis.com/tensorflow/keras-applications/vgg16/vgg16_weights_tf_dim_ordering_tf_kernels_notop.h5\n",
            "58892288/58889256 [==============================] - 0s 0us/step\n"
          ],
          "name": "stdout"
        }
      ]
    },
    {
      "cell_type": "code",
      "metadata": {
        "id": "ttfZ_kD7q84O"
      },
      "source": [
        "features_train = model.predict(train_x)\n",
        "features_test = model.predict(test_x) "
      ],
      "execution_count": null,
      "outputs": []
    },
    {
      "cell_type": "code",
      "metadata": {
        "id": "y53o2dlbkgyR"
      },
      "source": [
        ""
      ],
      "execution_count": null,
      "outputs": []
    },
    {
      "cell_type": "code",
      "metadata": {
        "id": "cINfaVqArcXV"
      },
      "source": [
        "x_train = MinMaxScaler().fit_transform(features_train)\n",
        "x_test = MinMaxScaler().fit_transform(features_test)"
      ],
      "execution_count": null,
      "outputs": []
    },
    {
      "cell_type": "code",
      "metadata": {
        "id": "4QxP70EM2WrU"
      },
      "source": [
        "pca = PCA(0.95)\n",
        "train_x_pca = pca.fit_transform(x_train)\n",
        "test_x_pca = pca.fit_transform(x_test)"
      ],
      "execution_count": null,
      "outputs": []
    },
    {
      "cell_type": "code",
      "metadata": {
        "id": "moAnpzZa3Taf"
      },
      "source": [
        "simple_model = Sequential()\n",
        "simple_model.add(Dense(128,kernel_initializer='he_normal'))\n",
        "simple_model.add(Activation('relu'))\n",
        "simple_model.add(Dense(21,activation='softmax'))\n",
        "simple_model.compile(loss=\"categorical_crossentropy\",metrics=['accuracy'],optimizer='adam')"
      ],
      "execution_count": null,
      "outputs": []
    },
    {
      "cell_type": "code",
      "metadata": {
        "id": "gQ8Hd4jG9ixY",
        "colab": {
          "base_uri": "https://localhost:8080/",
          "height": 1000
        },
        "outputId": "f529cc9f-ddf0-4a1f-b378-ec8a270078e2"
      },
      "source": [
        "history = simple_model.fit(train_x_pca,train_y,batch_size=256,epochs=30)"
      ],
      "execution_count": null,
      "outputs": [
        {
          "output_type": "stream",
          "text": [
            "Epoch 1/30\n",
            "7/7 [==============================] - 0s 3ms/step - loss: 0.0162 - accuracy: 0.9976\n",
            "Epoch 2/30\n",
            "7/7 [==============================] - 0s 3ms/step - loss: 0.0152 - accuracy: 0.9988\n",
            "Epoch 3/30\n",
            "7/7 [==============================] - 0s 3ms/step - loss: 0.0140 - accuracy: 0.9994\n",
            "Epoch 4/30\n",
            "7/7 [==============================] - 0s 3ms/step - loss: 0.0132 - accuracy: 0.9994\n",
            "Epoch 5/30\n",
            "7/7 [==============================] - 0s 3ms/step - loss: 0.0126 - accuracy: 0.9994\n",
            "Epoch 6/30\n",
            "7/7 [==============================] - 0s 3ms/step - loss: 0.0121 - accuracy: 0.9994\n",
            "Epoch 7/30\n",
            "7/7 [==============================] - 0s 2ms/step - loss: 0.0117 - accuracy: 0.9994\n",
            "Epoch 8/30\n",
            "7/7 [==============================] - 0s 3ms/step - loss: 0.0113 - accuracy: 1.0000\n",
            "Epoch 9/30\n",
            "7/7 [==============================] - 0s 3ms/step - loss: 0.0110 - accuracy: 1.0000\n",
            "Epoch 10/30\n",
            "7/7 [==============================] - 0s 3ms/step - loss: 0.0108 - accuracy: 1.0000\n",
            "Epoch 11/30\n",
            "7/7 [==============================] - 0s 3ms/step - loss: 0.0105 - accuracy: 1.0000\n",
            "Epoch 12/30\n",
            "7/7 [==============================] - 0s 3ms/step - loss: 0.0103 - accuracy: 1.0000\n",
            "Epoch 13/30\n",
            "7/7 [==============================] - 0s 3ms/step - loss: 0.0101 - accuracy: 1.0000\n",
            "Epoch 14/30\n",
            "7/7 [==============================] - 0s 3ms/step - loss: 0.0099 - accuracy: 1.0000\n",
            "Epoch 15/30\n",
            "7/7 [==============================] - 0s 3ms/step - loss: 0.0097 - accuracy: 1.0000\n",
            "Epoch 16/30\n",
            "7/7 [==============================] - 0s 3ms/step - loss: 0.0096 - accuracy: 1.0000\n",
            "Epoch 17/30\n",
            "7/7 [==============================] - 0s 3ms/step - loss: 0.0094 - accuracy: 1.0000\n",
            "Epoch 18/30\n",
            "7/7 [==============================] - 0s 3ms/step - loss: 0.0093 - accuracy: 1.0000\n",
            "Epoch 19/30\n",
            "7/7 [==============================] - 0s 3ms/step - loss: 0.0091 - accuracy: 1.0000\n",
            "Epoch 20/30\n",
            "7/7 [==============================] - 0s 3ms/step - loss: 0.0090 - accuracy: 1.0000\n",
            "Epoch 21/30\n",
            "7/7 [==============================] - 0s 3ms/step - loss: 0.0088 - accuracy: 1.0000\n",
            "Epoch 22/30\n",
            "7/7 [==============================] - 0s 3ms/step - loss: 0.0087 - accuracy: 1.0000\n",
            "Epoch 23/30\n",
            "7/7 [==============================] - 0s 3ms/step - loss: 0.0086 - accuracy: 1.0000\n",
            "Epoch 24/30\n",
            "7/7 [==============================] - 0s 3ms/step - loss: 0.0085 - accuracy: 1.0000\n",
            "Epoch 25/30\n",
            "7/7 [==============================] - 0s 4ms/step - loss: 0.0084 - accuracy: 1.0000\n",
            "Epoch 26/30\n",
            "7/7 [==============================] - 0s 3ms/step - loss: 0.0082 - accuracy: 1.0000\n",
            "Epoch 27/30\n",
            "7/7 [==============================] - 0s 3ms/step - loss: 0.0081 - accuracy: 1.0000\n",
            "Epoch 28/30\n",
            "7/7 [==============================] - 0s 3ms/step - loss: 0.0080 - accuracy: 1.0000\n",
            "Epoch 29/30\n",
            "7/7 [==============================] - 0s 3ms/step - loss: 0.0079 - accuracy: 1.0000\n",
            "Epoch 30/30\n",
            "7/7 [==============================] - 0s 2ms/step - loss: 0.0078 - accuracy: 1.0000\n"
          ],
          "name": "stdout"
        }
      ]
    },
    {
      "cell_type": "code",
      "metadata": {
        "id": "LnJ57WxU-Xwq",
        "colab": {
          "base_uri": "https://localhost:8080/",
          "height": 51
        },
        "outputId": "0e74e322-f5a8-439f-81a6-14389efff601"
      },
      "source": [
        "loss,acc = simple_model.evaluate(train_x_pca,train_y)\n",
        "print(\"Loss: {:.2f} & Accuracy : {:.2f}%\".format(loss,acc*100))"
      ],
      "execution_count": null,
      "outputs": [
        {
          "output_type": "stream",
          "text": [
            "53/53 [==============================] - 0s 1ms/step - loss: 0.0077 - accuracy: 1.0000\n",
            "Loss: 0.01 & Accuracy : 100.00%\n"
          ],
          "name": "stdout"
        }
      ]
    },
    {
      "cell_type": "code",
      "metadata": {
        "id": "LgvGOQ4b_58r",
        "colab": {
          "base_uri": "https://localhost:8080/",
          "height": 265
        },
        "outputId": "ce08c00a-7c28-4bb8-af1b-2790a1172c8e"
      },
      "source": [
        "for show in ['loss','accuracy']:\n",
        "  plt.plot(history.history[show],label=show)\n",
        "  plt.legend()\n",
        "plt.show()"
      ],
      "execution_count": null,
      "outputs": [
        {
          "output_type": "display_data",
          "data": {
            "image/png": "[encoded data removed]",
            "text/plain": [
              "<Figure size 432x288 with 1 Axes>"
            ]
          },
          "metadata": {
            "tags": [],
            "needs_background": "light"
          }
        }
      ]
    }
  ]
}